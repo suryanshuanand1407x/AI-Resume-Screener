{
  "nbformat": 4,
  "nbformat_minor": 0,
  "metadata": {
    "colab": {
      "provenance": [],
      "authorship_tag": "ABX9TyOWgdz3T6NzAZ7d17KqhApT",
      "include_colab_link": true
    },
    "kernelspec": {
      "name": "python3",
      "display_name": "Python 3"
    },
    "language_info": {
      "name": "python"
    }
  },
  "cells": [
    {
      "cell_type": "markdown",
      "metadata": {
        "id": "view-in-github",
        "colab_type": "text"
      },
      "source": [
        "<a href=\"https://colab.research.google.com/github/suryanshuanand1407x/AI-Resume-Screener/blob/main/Screening_questions.ipynb\" target=\"_parent\"><img src=\"https://colab.research.google.com/assets/colab-badge.svg\" alt=\"Open In Colab\"/></a>"
      ]
    },
    {
      "cell_type": "code",
      "execution_count": 1,
      "metadata": {
        "colab": {
          "base_uri": "https://localhost:8080/"
        },
        "id": "F1daXANHlYK3",
        "outputId": "4ebd447a-999c-43c5-f384-d32d78d5515e"
      },
      "outputs": [
        {
          "output_type": "stream",
          "name": "stdout",
          "text": [
            "=== Candidate Screening Question Generator ===\n",
            "Please provide the following information:\n",
            "\n",
            "1. Company Name: Finlatics\n",
            "2. Job Title: Business Analyst\n",
            "3. Job Type (full-time/internship/freelance): Internship\n",
            "4. Job Description (1-2 sentences): Utilised statistical data to predict market growth of company\n",
            "5. Key Responsibilities (separate with periods): Analyse market data. Utilise statistical methods\n",
            "\n",
            "Generating screening questions...\n",
            "\n",
            "\n",
            "=== Custom Screening Questions for Business Analyst at Finlatics ===\n",
            "\n",
            "1. [Experience-Based]\n",
            "Can you describe a specific project or role where you demonstrated expertise relevant to the Business Analyst position at Finlatics? Focus on how your experience aligns with key responsibilities such as: Analyse market data.\n",
            "\n",
            "\n",
            "2. [Technical Competence]\n",
            "Imagine you encounter quickly learning a new technology or tool required for a project in your role as a Business Analyst. What technical approach would you take to address it, and which specific skills from your background would be most relevant?\n",
            "\n",
            "\n",
            "3. [Critical Thinking & Adaptability]\n",
            "Describe a situation where you had to quickly adapt your approach due to unexpected changes while working on a project. How did you reassess your strategy, and what was the result?\n",
            "\n",
            "\n",
            "4. [Culture & Values Alignment]\n",
            "Finlatics emphasizes a collaborative and innovative culture. Can you provide an example of how you've contributed to such an environment in a past role?\n",
            "\n",
            "\n",
            "5. [Motivation & Vision]\n",
            "What excites you most about the opportunity to work as a Business Analyst at Finlatics, and how do you see this role aligning with your professional growth over the next three years?\n",
            "\n",
            "\n",
            "=== Screening Process Ready ===\n"
          ]
        }
      ],
      "source": [
        "def generate_screening_questions(company_name, job_title, job_type, job_description, job_responsibilities):\n",
        "    challenges = {\n",
        "        'full-time': 'resolving a complex technical problem under tight deadlines',\n",
        "        'internship': 'quickly learning a new technology or tool required for a project',\n",
        "        'freelance': 'managing multiple client projects with competing priorities'\n",
        "    }\n",
        "    challenge = challenges.get(job_type.lower(), 'a job-related challenge')\n",
        "\n",
        "    questions = [\n",
        "        {\n",
        "            'category': 'Experience-Based',\n",
        "            'question': f\"Can you describe a specific project or role where you demonstrated expertise relevant to the {job_title} position at {company_name}? Focus on how your experience aligns with key responsibilities such as: {job_responsibilities.split('. ')[0]}.\"\n",
        "        },\n",
        "        {\n",
        "            'category': 'Technical Competence',\n",
        "            'question': f\"Imagine you encounter {challenge} in your role as a {job_title}. What technical approach would you take to address it, and which specific skills from your background would be most relevant?\"\n",
        "        },\n",
        "        {\n",
        "            'category': 'Critical Thinking & Adaptability',\n",
        "            'question': f\"Describe a situation where you had to quickly adapt your approach due to unexpected changes while working on a project. How did you reassess your strategy, and what was the result?\"\n",
        "        },\n",
        "        {\n",
        "            'category': 'Culture & Values Alignment',\n",
        "            'question': f\"{company_name} emphasizes a collaborative and innovative culture. Can you provide an example of how you've contributed to such an environment in a past role?\"\n",
        "        },\n",
        "        {\n",
        "            'category': 'Motivation & Vision',\n",
        "            'question': f\"What excites you most about the opportunity to work as a {job_title} at {company_name}, and how do you see this role aligning with your professional growth over the next three years?\"\n",
        "        }\n",
        "    ]\n",
        "    return questions\n",
        "\n",
        "def main_form():\n",
        "    print(\"=== Candidate Screening Question Generator ===\")\n",
        "    print(\"Please provide the following information:\\n\")\n",
        "\n",
        "    company_name = input(\"1. Company Name: \")\n",
        "    job_title = input(\"2. Job Title: \")\n",
        "\n",
        "    while True:\n",
        "        job_type = input(\"3. Job Type (full-time/internship/freelance): \").lower()\n",
        "        if job_type in ['full-time', 'internship', 'freelance']:\n",
        "            break\n",
        "        print(\"Invalid job type. Please enter: full-time, internship, or freelance\\n\")\n",
        "\n",
        "    job_description = input(\"4. Job Description (1-2 sentences): \")\n",
        "    job_responsibilities = input(\"5. Key Responsibilities (separate with periods): \")\n",
        "\n",
        "    print(\"\\nGenerating screening questions...\\n\")\n",
        "    questions = generate_screening_questions(\n",
        "        company_name, job_title, job_type,\n",
        "        job_description, job_responsibilities\n",
        "    )\n",
        "\n",
        "    print(f\"\\n=== Custom Screening Questions for {job_title} at {company_name} ===\")\n",
        "    for idx, q in enumerate(questions, 1):\n",
        "        print(f\"\\n{idx}. [{q['category']}]\\n{q['question']}\\n\")\n",
        "    print(\"\\n=== Screening Process Ready ===\")\n",
        "\n",
        "if __name__ == \"__main__\":\n",
        "    main_form()"
      ]
    }
  ]
}